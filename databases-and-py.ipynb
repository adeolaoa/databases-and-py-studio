{
    "metadata": {
        "kernelspec": {
            "name": "python3",
            "display_name": "Python 3 (ipykernel)",
            "language": "python"
        },
        "language_info": {
            "name": "python",
            "version": "3.9.13",
            "mimetype": "text/x-python",
            "codemirror_mode": {
                "name": "ipython",
                "version": 3
            },
            "pygments_lexer": "ipython3",
            "nbconvert_exporter": "python",
            "file_extension": ".py"
        }
    },
    "nbformat_minor": 2,
    "nbformat": 4,
    "cells": [
        {
            "cell_type": "markdown",
            "source": [
                "# Studio: Working with Databases in Python\n",
                "\n",
                "For today's studio, we will be using the [TV Shows dataset](https://www.kaggle.com/ruchi798/tv-shows-on-netflix-prime-video-hulu-and-disney) from Kaggle. We have already downloaded the CSV for you.\n",
                "\n",
                "You will also be using the watchlist you just created to figure out which streaming services contain the shows that you want to watch next so you can decide which one is worth the money to you.\n",
                "\n",
                "As you complete the different tasks in the studio, you may choose between using Pandas or SQL. Remember that during the prep work, we learned that one is oftentimes more efficient at certain tasks than the other, so choose wisely!"
            ],
            "metadata": {
                "azdata_cell_guid": "54326aff-51cd-4766-8046-828a92489c6d"
            },
            "attachments": {}
        },
        {
            "cell_type": "markdown",
            "source": [
                "## My Watchlist\n",
                "\n",
                "If you would like, please use this space to make note of your watchlist by editing the text cell.\n",
                "\n",
                "Watch list = (<span style=\"font-size: 12px; font-family: -apple-system, BlinkMacSystemFont, sans-serif;\">Stranger Things,&nbsp;</span>  <span style=\"font-size: 12px; font-family: -apple-system, BlinkMacSystemFont, sans-serif;\">Better Call Saul,&nbsp;</span> <span style=\"font-size: 12px; font-family: -apple-system, BlinkMacSystemFont, sans-serif;\">Dark</span><span style=\"font-family: -apple-system, BlinkMacSystemFont, sans-serif; font-size: 12px;\">)</span>"
            ],
            "metadata": {
                "azdata_cell_guid": "00bc62ef-6c46-40a2-bdad-a3250a003ce7"
            },
            "attachments": {}
        },
        {
            "cell_type": "markdown",
            "source": [
                "## Database Setup\n",
                "\n",
                "To start with, import the necessary libraries and create a dataframe from the provided CSV. Print the info out for the dataframe. After that, you may drop the column called `Unnamed: 0` and rename any columns with spaces in the names or unusual characters such as `\"+\"`. Print out the info for the dataframe again to ensure that your changes were effective."
            ],
            "metadata": {
                "azdata_cell_guid": "040bdac5-f7fc-474f-b112-1d807249ad0a"
            }
        },
        {
            "cell_type": "code",
            "source": [
                "import pandas as pd\n",
                "import sqlite3 as sl\n",
                "\n",
                "data = pd.read_csv('tv_shows.csv') #create a dataframe from the provided CSV\n",
                "\n",
                "data.head(20)#create a dataframe from the provided CSV"
            ],
            "metadata": {
                "azdata_cell_guid": "965f15d3-27b1-43ed-97e4-8c6fd482476c",
                "tags": [],
                "language": "python"
            },
            "outputs": [
                {
                    "data": {
                        "text/plain": "    Unnamed: 0  ID                       Title  Year  Age    IMDb  \\\n0            0   1                Breaking Bad  2008  18+  9.4/10   \n1            1   2             Stranger Things  2016  16+  8.7/10   \n2            2   3             Attack on Titan  2013  18+  9.0/10   \n3            3   4            Better Call Saul  2015  18+  8.8/10   \n4            4   5                        Dark  2017  16+  8.8/10   \n5            5   6  Avatar: The Last Airbender  2005   7+  9.3/10   \n6            6   7              Peaky Blinders  2013  18+  8.8/10   \n7            7   8            The Walking Dead  2010  18+  8.2/10   \n8            8   9                Black Mirror  2011  18+  8.8/10   \n9            9  10          The Queen's Gambit  2020  18+  8.6/10   \n10          10  11                  Mindhunter  2017  18+  8.6/10   \n11          11  12                   Community  2009   7+  8.5/10   \n12          12  13                      Narcos  2015  18+  8.8/10   \n13          13  14                   Shameless  2011  18+  8.5/10   \n14          14  15                 Money Heist  2017  18+  8.3/10   \n15          15  16          Marvel's Daredevil  2015  18+  8.6/10   \n16          16  17                     Lucifer  2016  16+  8.1/10   \n17          17  18                Supernatural  2005  16+  8.4/10   \n18          18  19                 The Witcher  2019  18+  8.2/10   \n19          19  20                       Ozark  2017  18+  8.4/10   \n\n   Rotten Tomatoes  Netflix  Hulu  Prime Video  Disney+  Type  \n0          100/100        1     0            0        0     1  \n1           96/100        1     0            0        0     1  \n2           95/100        1     1            0        0     1  \n3           94/100        1     0            0        0     1  \n4           93/100        1     0            0        0     1  \n5           93/100        1     0            1        0     1  \n6           93/100        1     0            0        0     1  \n7           93/100        1     0            0        0     1  \n8           92/100        1     0            0        0     1  \n9           92/100        1     0            0        0     1  \n10          90/100        1     0            0        0     1  \n11          90/100        1     1            1        0     1  \n12          90/100        1     0            0        0     1  \n13          90/100        1     1            1        0     1  \n14          90/100        1     0            0        0     1  \n15          90/100        1     0            0        0     1  \n16          90/100        1     0            0        0     1  \n17          89/100        1     0            0        0     1  \n18          89/100        1     0            0        0     1  \n19          89/100        1     0            0        0     1  ",
                        "text/html": "<div>\n<style scoped>\n    .dataframe tbody tr th:only-of-type {\n        vertical-align: middle;\n    }\n\n    .dataframe tbody tr th {\n        vertical-align: top;\n    }\n\n    .dataframe thead th {\n        text-align: right;\n    }\n</style>\n<table border=\"1\" class=\"dataframe\">\n  <thead>\n    <tr style=\"text-align: right;\">\n      <th></th>\n      <th>Unnamed: 0</th>\n      <th>ID</th>\n      <th>Title</th>\n      <th>Year</th>\n      <th>Age</th>\n      <th>IMDb</th>\n      <th>Rotten Tomatoes</th>\n      <th>Netflix</th>\n      <th>Hulu</th>\n      <th>Prime Video</th>\n      <th>Disney+</th>\n      <th>Type</th>\n    </tr>\n  </thead>\n  <tbody>\n    <tr>\n      <th>0</th>\n      <td>0</td>\n      <td>1</td>\n      <td>Breaking Bad</td>\n      <td>2008</td>\n      <td>18+</td>\n      <td>9.4/10</td>\n      <td>100/100</td>\n      <td>1</td>\n      <td>0</td>\n      <td>0</td>\n      <td>0</td>\n      <td>1</td>\n    </tr>\n    <tr>\n      <th>1</th>\n      <td>1</td>\n      <td>2</td>\n      <td>Stranger Things</td>\n      <td>2016</td>\n      <td>16+</td>\n      <td>8.7/10</td>\n      <td>96/100</td>\n      <td>1</td>\n      <td>0</td>\n      <td>0</td>\n      <td>0</td>\n      <td>1</td>\n    </tr>\n    <tr>\n      <th>2</th>\n      <td>2</td>\n      <td>3</td>\n      <td>Attack on Titan</td>\n      <td>2013</td>\n      <td>18+</td>\n      <td>9.0/10</td>\n      <td>95/100</td>\n      <td>1</td>\n      <td>1</td>\n      <td>0</td>\n      <td>0</td>\n      <td>1</td>\n    </tr>\n    <tr>\n      <th>3</th>\n      <td>3</td>\n      <td>4</td>\n      <td>Better Call Saul</td>\n      <td>2015</td>\n      <td>18+</td>\n      <td>8.8/10</td>\n      <td>94/100</td>\n      <td>1</td>\n      <td>0</td>\n      <td>0</td>\n      <td>0</td>\n      <td>1</td>\n    </tr>\n    <tr>\n      <th>4</th>\n      <td>4</td>\n      <td>5</td>\n      <td>Dark</td>\n      <td>2017</td>\n      <td>16+</td>\n      <td>8.8/10</td>\n      <td>93/100</td>\n      <td>1</td>\n      <td>0</td>\n      <td>0</td>\n      <td>0</td>\n      <td>1</td>\n    </tr>\n    <tr>\n      <th>5</th>\n      <td>5</td>\n      <td>6</td>\n      <td>Avatar: The Last Airbender</td>\n      <td>2005</td>\n      <td>7+</td>\n      <td>9.3/10</td>\n      <td>93/100</td>\n      <td>1</td>\n      <td>0</td>\n      <td>1</td>\n      <td>0</td>\n      <td>1</td>\n    </tr>\n    <tr>\n      <th>6</th>\n      <td>6</td>\n      <td>7</td>\n      <td>Peaky Blinders</td>\n      <td>2013</td>\n      <td>18+</td>\n      <td>8.8/10</td>\n      <td>93/100</td>\n      <td>1</td>\n      <td>0</td>\n      <td>0</td>\n      <td>0</td>\n      <td>1</td>\n    </tr>\n    <tr>\n      <th>7</th>\n      <td>7</td>\n      <td>8</td>\n      <td>The Walking Dead</td>\n      <td>2010</td>\n      <td>18+</td>\n      <td>8.2/10</td>\n      <td>93/100</td>\n      <td>1</td>\n      <td>0</td>\n      <td>0</td>\n      <td>0</td>\n      <td>1</td>\n    </tr>\n    <tr>\n      <th>8</th>\n      <td>8</td>\n      <td>9</td>\n      <td>Black Mirror</td>\n      <td>2011</td>\n      <td>18+</td>\n      <td>8.8/10</td>\n      <td>92/100</td>\n      <td>1</td>\n      <td>0</td>\n      <td>0</td>\n      <td>0</td>\n      <td>1</td>\n    </tr>\n    <tr>\n      <th>9</th>\n      <td>9</td>\n      <td>10</td>\n      <td>The Queen's Gambit</td>\n      <td>2020</td>\n      <td>18+</td>\n      <td>8.6/10</td>\n      <td>92/100</td>\n      <td>1</td>\n      <td>0</td>\n      <td>0</td>\n      <td>0</td>\n      <td>1</td>\n    </tr>\n    <tr>\n      <th>10</th>\n      <td>10</td>\n      <td>11</td>\n      <td>Mindhunter</td>\n      <td>2017</td>\n      <td>18+</td>\n      <td>8.6/10</td>\n      <td>90/100</td>\n      <td>1</td>\n      <td>0</td>\n      <td>0</td>\n      <td>0</td>\n      <td>1</td>\n    </tr>\n    <tr>\n      <th>11</th>\n      <td>11</td>\n      <td>12</td>\n      <td>Community</td>\n      <td>2009</td>\n      <td>7+</td>\n      <td>8.5/10</td>\n      <td>90/100</td>\n      <td>1</td>\n      <td>1</td>\n      <td>1</td>\n      <td>0</td>\n      <td>1</td>\n    </tr>\n    <tr>\n      <th>12</th>\n      <td>12</td>\n      <td>13</td>\n      <td>Narcos</td>\n      <td>2015</td>\n      <td>18+</td>\n      <td>8.8/10</td>\n      <td>90/100</td>\n      <td>1</td>\n      <td>0</td>\n      <td>0</td>\n      <td>0</td>\n      <td>1</td>\n    </tr>\n    <tr>\n      <th>13</th>\n      <td>13</td>\n      <td>14</td>\n      <td>Shameless</td>\n      <td>2011</td>\n      <td>18+</td>\n      <td>8.5/10</td>\n      <td>90/100</td>\n      <td>1</td>\n      <td>1</td>\n      <td>1</td>\n      <td>0</td>\n      <td>1</td>\n    </tr>\n    <tr>\n      <th>14</th>\n      <td>14</td>\n      <td>15</td>\n      <td>Money Heist</td>\n      <td>2017</td>\n      <td>18+</td>\n      <td>8.3/10</td>\n      <td>90/100</td>\n      <td>1</td>\n      <td>0</td>\n      <td>0</td>\n      <td>0</td>\n      <td>1</td>\n    </tr>\n    <tr>\n      <th>15</th>\n      <td>15</td>\n      <td>16</td>\n      <td>Marvel's Daredevil</td>\n      <td>2015</td>\n      <td>18+</td>\n      <td>8.6/10</td>\n      <td>90/100</td>\n      <td>1</td>\n      <td>0</td>\n      <td>0</td>\n      <td>0</td>\n      <td>1</td>\n    </tr>\n    <tr>\n      <th>16</th>\n      <td>16</td>\n      <td>17</td>\n      <td>Lucifer</td>\n      <td>2016</td>\n      <td>16+</td>\n      <td>8.1/10</td>\n      <td>90/100</td>\n      <td>1</td>\n      <td>0</td>\n      <td>0</td>\n      <td>0</td>\n      <td>1</td>\n    </tr>\n    <tr>\n      <th>17</th>\n      <td>17</td>\n      <td>18</td>\n      <td>Supernatural</td>\n      <td>2005</td>\n      <td>16+</td>\n      <td>8.4/10</td>\n      <td>89/100</td>\n      <td>1</td>\n      <td>0</td>\n      <td>0</td>\n      <td>0</td>\n      <td>1</td>\n    </tr>\n    <tr>\n      <th>18</th>\n      <td>18</td>\n      <td>19</td>\n      <td>The Witcher</td>\n      <td>2019</td>\n      <td>18+</td>\n      <td>8.2/10</td>\n      <td>89/100</td>\n      <td>1</td>\n      <td>0</td>\n      <td>0</td>\n      <td>0</td>\n      <td>1</td>\n    </tr>\n    <tr>\n      <th>19</th>\n      <td>19</td>\n      <td>20</td>\n      <td>Ozark</td>\n      <td>2017</td>\n      <td>18+</td>\n      <td>8.4/10</td>\n      <td>89/100</td>\n      <td>1</td>\n      <td>0</td>\n      <td>0</td>\n      <td>0</td>\n      <td>1</td>\n    </tr>\n  </tbody>\n</table>\n</div>"
                    },
                    "metadata": {},
                    "execution_count": 16,
                    "output_type": "execute_result"
                }
            ],
            "execution_count": 16
        },
        {
            "cell_type": "code",
            "source": [
                "print(data.info)"
            ],
            "metadata": {
                "language": "python",
                "azdata_cell_guid": "8eb00100-c117-4d46-8c44-1fb382205877"
            },
            "outputs": [
                {
                    "name": "stdout",
                    "text": "<bound method DataFrame.info of       Unnamed: 0    ID                                  Title  Year  Age  \\\n0              0     1                           Breaking Bad  2008  18+   \n1              1     2                        Stranger Things  2016  16+   \n2              2     3                        Attack on Titan  2013  18+   \n3              3     4                       Better Call Saul  2015  18+   \n4              4     5                                   Dark  2017  16+   \n...          ...   ...                                    ...   ...  ...   \n5363        5363  5713                       Paradise Islands  2017  NaN   \n5364        5364  5714                         Mexico Untamed  2018  NaN   \n5365        5365  5715                  Wild Centeral America  2020  NaN   \n5366        5366  5716                            Wild Russia  2018  NaN   \n5367        5367  5717  Fearless Adventures with Jack Randall  2018  NaN   \n\n        IMDb Rotten Tomatoes  Netflix  Hulu  Prime Video  Disney+  Type  \n0     9.4/10         100/100        1     0            0        0     1  \n1     8.7/10          96/100        1     0            0        0     1  \n2     9.0/10          95/100        1     1            0        0     1  \n3     8.8/10          94/100        1     0            0        0     1  \n4     8.8/10          93/100        1     0            0        0     1  \n...      ...             ...      ...   ...          ...      ...   ...  \n5363     NaN          10/100        0     0            0        1     1  \n5364     NaN          10/100        0     0            0        1     1  \n5365     NaN          10/100        0     0            0        1     1  \n5366     NaN          10/100        0     0            0        1     1  \n5367     NaN          10/100        0     0            0        1     1  \n\n[5368 rows x 12 columns]>\n",
                    "output_type": "stream"
                }
            ],
            "execution_count": 17
        },
        {
            "cell_type": "code",
            "source": [
                "# this method to make a new database called exercises.db.\n",
                "\n",
                "con = sl.connect('Tv_show.db')\n",
                "\n",
                "# convert dataframe to table in the database Tv_show\n",
                "data.to_sql('tv_shows', con) # tv_shows-table name in database\n",
                "\n",
                ""
            ],
            "metadata": {
                "language": "python",
                "azdata_cell_guid": "b6d4bffe-b03d-4481-8f2f-c449d414a61c",
                "tags": []
            },
            "outputs": [
                {
                    "traceback": [
                        "\u001b[0;31m---------------------------------------------------------------------------\u001b[0m",
                        "\u001b[0;31mValueError\u001b[0m                                Traceback (most recent call last)",
                        "\u001b[0;32m/var/folders/p5/7w9kmhg525vf5ly43z9q0vrcrmzj6_/T/ipykernel_31030/1446394748.py\u001b[0m in \u001b[0;36m<module>\u001b[0;34m\u001b[0m\n\u001b[1;32m      4\u001b[0m \u001b[0;34m\u001b[0m\u001b[0m\n\u001b[1;32m      5\u001b[0m \u001b[0;31m# convert dataframe to table in the database Tv_show\u001b[0m\u001b[0;34m\u001b[0m\u001b[0;34m\u001b[0m\u001b[0m\n\u001b[0;32m----> 6\u001b[0;31m \u001b[0mdata\u001b[0m\u001b[0;34m.\u001b[0m\u001b[0mto_sql\u001b[0m\u001b[0;34m(\u001b[0m\u001b[0;34m'tv_shows'\u001b[0m\u001b[0;34m,\u001b[0m \u001b[0mcon\u001b[0m\u001b[0;34m)\u001b[0m \u001b[0;31m# tv_shows-table name in database\u001b[0m\u001b[0;34m\u001b[0m\u001b[0;34m\u001b[0m\u001b[0m\n\u001b[0m\u001b[1;32m      7\u001b[0m \u001b[0;34m\u001b[0m\u001b[0m\n",
                        "\u001b[0;32m~/opt/anaconda3/lib/python3.9/site-packages/pandas/core/generic.py\u001b[0m in \u001b[0;36mto_sql\u001b[0;34m(self, name, con, schema, if_exists, index, index_label, chunksize, dtype, method)\u001b[0m\n\u001b[1;32m   2949\u001b[0m         \u001b[0;32mfrom\u001b[0m \u001b[0mpandas\u001b[0m\u001b[0;34m.\u001b[0m\u001b[0mio\u001b[0m \u001b[0;32mimport\u001b[0m \u001b[0msql\u001b[0m\u001b[0;34m\u001b[0m\u001b[0;34m\u001b[0m\u001b[0m\n\u001b[1;32m   2950\u001b[0m \u001b[0;34m\u001b[0m\u001b[0m\n\u001b[0;32m-> 2951\u001b[0;31m         return sql.to_sql(\n\u001b[0m\u001b[1;32m   2952\u001b[0m             \u001b[0mself\u001b[0m\u001b[0;34m,\u001b[0m\u001b[0;34m\u001b[0m\u001b[0;34m\u001b[0m\u001b[0m\n\u001b[1;32m   2953\u001b[0m             \u001b[0mname\u001b[0m\u001b[0;34m,\u001b[0m\u001b[0;34m\u001b[0m\u001b[0;34m\u001b[0m\u001b[0m\n",
                        "\u001b[0;32m~/opt/anaconda3/lib/python3.9/site-packages/pandas/io/sql.py\u001b[0m in \u001b[0;36mto_sql\u001b[0;34m(frame, name, con, schema, if_exists, index, index_label, chunksize, dtype, method, engine, **engine_kwargs)\u001b[0m\n\u001b[1;32m    696\u001b[0m         )\n\u001b[1;32m    697\u001b[0m \u001b[0;34m\u001b[0m\u001b[0m\n\u001b[0;32m--> 698\u001b[0;31m     return pandas_sql.to_sql(\n\u001b[0m\u001b[1;32m    699\u001b[0m         \u001b[0mframe\u001b[0m\u001b[0;34m,\u001b[0m\u001b[0;34m\u001b[0m\u001b[0;34m\u001b[0m\u001b[0m\n\u001b[1;32m    700\u001b[0m         \u001b[0mname\u001b[0m\u001b[0;34m,\u001b[0m\u001b[0;34m\u001b[0m\u001b[0;34m\u001b[0m\u001b[0m\n",
                        "\u001b[0;32m~/opt/anaconda3/lib/python3.9/site-packages/pandas/io/sql.py\u001b[0m in \u001b[0;36mto_sql\u001b[0;34m(self, frame, name, if_exists, index, index_label, schema, chunksize, dtype, method, **kwargs)\u001b[0m\n\u001b[1;32m   2190\u001b[0m             \u001b[0mdtype\u001b[0m\u001b[0;34m=\u001b[0m\u001b[0mdtype\u001b[0m\u001b[0;34m,\u001b[0m\u001b[0;34m\u001b[0m\u001b[0;34m\u001b[0m\u001b[0m\n\u001b[1;32m   2191\u001b[0m         )\n\u001b[0;32m-> 2192\u001b[0;31m         \u001b[0mtable\u001b[0m\u001b[0;34m.\u001b[0m\u001b[0mcreate\u001b[0m\u001b[0;34m(\u001b[0m\u001b[0;34m)\u001b[0m\u001b[0;34m\u001b[0m\u001b[0;34m\u001b[0m\u001b[0m\n\u001b[0m\u001b[1;32m   2193\u001b[0m         \u001b[0;32mreturn\u001b[0m \u001b[0mtable\u001b[0m\u001b[0;34m.\u001b[0m\u001b[0minsert\u001b[0m\u001b[0;34m(\u001b[0m\u001b[0mchunksize\u001b[0m\u001b[0;34m,\u001b[0m \u001b[0mmethod\u001b[0m\u001b[0;34m)\u001b[0m\u001b[0;34m\u001b[0m\u001b[0;34m\u001b[0m\u001b[0m\n\u001b[1;32m   2194\u001b[0m \u001b[0;34m\u001b[0m\u001b[0m\n",
                        "\u001b[0;32m~/opt/anaconda3/lib/python3.9/site-packages/pandas/io/sql.py\u001b[0m in \u001b[0;36mcreate\u001b[0;34m(self)\u001b[0m\n\u001b[1;32m    832\u001b[0m         \u001b[0;32mif\u001b[0m \u001b[0mself\u001b[0m\u001b[0;34m.\u001b[0m\u001b[0mexists\u001b[0m\u001b[0;34m(\u001b[0m\u001b[0;34m)\u001b[0m\u001b[0;34m:\u001b[0m\u001b[0;34m\u001b[0m\u001b[0;34m\u001b[0m\u001b[0m\n\u001b[1;32m    833\u001b[0m             \u001b[0;32mif\u001b[0m \u001b[0mself\u001b[0m\u001b[0;34m.\u001b[0m\u001b[0mif_exists\u001b[0m \u001b[0;34m==\u001b[0m \u001b[0;34m\"fail\"\u001b[0m\u001b[0;34m:\u001b[0m\u001b[0;34m\u001b[0m\u001b[0;34m\u001b[0m\u001b[0m\n\u001b[0;32m--> 834\u001b[0;31m                 \u001b[0;32mraise\u001b[0m \u001b[0mValueError\u001b[0m\u001b[0;34m(\u001b[0m\u001b[0;34mf\"Table '{self.name}' already exists.\"\u001b[0m\u001b[0;34m)\u001b[0m\u001b[0;34m\u001b[0m\u001b[0;34m\u001b[0m\u001b[0m\n\u001b[0m\u001b[1;32m    835\u001b[0m             \u001b[0;32melif\u001b[0m \u001b[0mself\u001b[0m\u001b[0;34m.\u001b[0m\u001b[0mif_exists\u001b[0m \u001b[0;34m==\u001b[0m \u001b[0;34m\"replace\"\u001b[0m\u001b[0;34m:\u001b[0m\u001b[0;34m\u001b[0m\u001b[0;34m\u001b[0m\u001b[0m\n\u001b[1;32m    836\u001b[0m                 \u001b[0mself\u001b[0m\u001b[0;34m.\u001b[0m\u001b[0mpd_sql\u001b[0m\u001b[0;34m.\u001b[0m\u001b[0mdrop_table\u001b[0m\u001b[0;34m(\u001b[0m\u001b[0mself\u001b[0m\u001b[0;34m.\u001b[0m\u001b[0mname\u001b[0m\u001b[0;34m,\u001b[0m \u001b[0mself\u001b[0m\u001b[0;34m.\u001b[0m\u001b[0mschema\u001b[0m\u001b[0;34m)\u001b[0m\u001b[0;34m\u001b[0m\u001b[0;34m\u001b[0m\u001b[0m\n",
                        "\u001b[0;31mValueError\u001b[0m: Table 'tv_shows' already exists."
                    ],
                    "ename": "ValueError",
                    "evalue": "Table 'tv_shows' already exists.",
                    "output_type": "error"
                }
            ],
            "execution_count": 18
        },
        {
            "cell_type": "code",
            "source": [
                "# displays the rows in tv_show table\n",
                "data2 = con.execute('SELECT * FROM tv_shows limit 4')\n",
                "for row in data2:\n",
                "    print(row)\n",
                "\n",
                ""
            ],
            "metadata": {
                "language": "python",
                "azdata_cell_guid": "ac4a156e-5c4d-42b2-93c4-94e8e1f09580",
                "tags": []
            },
            "outputs": [
                {
                    "output_type": "stream",
                    "name": "stdout",
                    "text": "(0, 0, 1, 'Breaking Bad', 2008, '18+', '9.4/10', '100/100', 1, 0, 0, 0, 1)\n(1, 1, 2, 'Stranger Things', 2016, '16+', '8.7/10', '96/100', 1, 0, 0, 0, 1)\n(2, 2, 3, 'Attack on Titan', 2013, '18+', '9.0/10', '95/100', 1, 1, 0, 0, 1)\n(3, 3, 4, 'Better Call Saul', 2015, '18+', '8.8/10', '94/100', 1, 0, 0, 0, 1)\n"
                }
            ],
            "execution_count": 39
        },
        {
            "cell_type": "code",
            "source": [
                "#dataframe.drop('column_name',index)\n",
                "#dataframe.rename(columns = {'old_column_name1':'new_column_name1','old_column_name2':'new_column_name2'})"
            ],
            "metadata": {
                "azdata_cell_guid": "d18d36b6-0c4d-44d9-b532-20c1f6b50e70",
                "language": "python"
            },
            "outputs": [],
            "execution_count": null
        },
        {
            "cell_type": "code",
            "source": [
                "\n",
                "#data2 = con.execute(\"ALTER TABLE tv_shows DROP COLUMN 'Unnamed: 0' \") # drop the column called Unnamed: 0 \n",
                "\n",
                "data2 = con.execute('SELECT * FROM tv_shows limit 4') # displays the rows in tv_show table\n",
                "for row in data2:\n",
                "    print(row)\n",
                ""
            ],
            "metadata": {
                "language": "python",
                "azdata_cell_guid": "e2162db2-3491-4903-82d3-0d7c40a8e4c2"
            },
            "outputs": [
                {
                    "name": "stdout",
                    "text": "(0, 1, 'Breaking Bad', 2008, '18+', '9.4/10', '100/100', 1, 0, 0, 0, 1)\n(1, 2, 'Stranger Things', 2016, '16+', '8.7/10', '96/100', 1, 0, 0, 0, 1)\n(2, 3, 'Attack on Titan', 2013, '18+', '9.0/10', '95/100', 1, 1, 0, 0, 1)\n(3, 4, 'Better Call Saul', 2015, '18+', '8.8/10', '94/100', 1, 0, 0, 0, 1)\n",
                    "output_type": "stream"
                }
            ],
            "execution_count": 19
        },
        {
            "cell_type": "code",
            "source": [
                "# rename any columns with spaces in the names or unusual characters such as \"+\"\n",
                "data2 = con.execute(\"ALTER TABLE tv_shows RENAME 'Disney+' to 'Disney'\")"
            ],
            "metadata": {
                "language": "python",
                "azdata_cell_guid": "62ee27a8-08b6-4ec6-84e9-5fc41cc2c20c"
            },
            "outputs": [
                {
                    "traceback": [
                        "\u001b[0;31m---------------------------------------------------------------------------\u001b[0m",
                        "\u001b[0;31mOperationalError\u001b[0m                          Traceback (most recent call last)",
                        "\u001b[0;32m/var/folders/p5/7w9kmhg525vf5ly43z9q0vrcrmzj6_/T/ipykernel_31030/441293695.py\u001b[0m in \u001b[0;36m<module>\u001b[0;34m\u001b[0m\n\u001b[1;32m      1\u001b[0m \u001b[0;31m# rename any columns with spaces in the names or unusual characters such as \"+\"\u001b[0m\u001b[0;34m\u001b[0m\u001b[0;34m\u001b[0m\u001b[0m\n\u001b[0;32m----> 2\u001b[0;31m \u001b[0mdata2\u001b[0m \u001b[0;34m=\u001b[0m \u001b[0mcon\u001b[0m\u001b[0;34m.\u001b[0m\u001b[0mexecute\u001b[0m\u001b[0;34m(\u001b[0m\u001b[0;34m\"ALTER TABLE tv_shows RENAME 'Disney+' to 'Disney'\"\u001b[0m\u001b[0;34m)\u001b[0m\u001b[0;34m\u001b[0m\u001b[0;34m\u001b[0m\u001b[0m\n\u001b[0m",
                        "\u001b[0;31mOperationalError\u001b[0m: no such column: \"'Disney+'\""
                    ],
                    "ename": "OperationalError",
                    "evalue": "no such column: \"'Disney+'\"",
                    "output_type": "error"
                }
            ],
            "execution_count": 21
        },
        {
            "cell_type": "code",
            "source": [
                "# read in your SQL query results using pandas\n",
                "\n",
                "# tv_shows table in Tv_show database\n",
                "dataframe = pd.read_sql(\"\"\"\n",
                "            SELECT *\n",
                "            FROM tv_shows\n",
                "            \"\"\",  con)\n",
                "\n",
                "\n",
                "data_new = dataframe.drop(['index'], axis=1) # drop the column called index\n",
                "#dataframe.head()"
            ],
            "metadata": {
                "azdata_cell_guid": "c6aa3980-3eef-4d7d-8f04-961508662147",
                "tags": [],
                "language": "python"
            },
            "outputs": [],
            "execution_count": 23
        },
        {
            "cell_type": "code",
            "source": [
                "data_new = data_new.rename(columns = {'Rotten Tomatoes':'Rotten_Tomatoes','Prime Video':'Prime_Video'})\n",
                "\n",
                "# Print out the info for the dataframe again to ensure that your changes were effective.\n",
                "\n",
                "data_new.info()"
            ],
            "metadata": {
                "language": "python",
                "azdata_cell_guid": "61190081-c3f1-4b9c-a2fc-657868949d56",
                "tags": []
            },
            "outputs": [
                {
                    "name": "stdout",
                    "text": "<class 'pandas.core.frame.DataFrame'>\nRangeIndex: 5368 entries, 0 to 5367\nData columns (total 11 columns):\n #   Column           Non-Null Count  Dtype \n---  ------           --------------  ----- \n 0   ID               5368 non-null   int64 \n 1   Title            5368 non-null   object\n 2   Year             5368 non-null   int64 \n 3   Age              3241 non-null   object\n 4   IMDb             4406 non-null   object\n 5   Rotten_Tomatoes  5368 non-null   object\n 6   Netflix          5368 non-null   int64 \n 7   Hulu             5368 non-null   int64 \n 8   Prime_Video      5368 non-null   int64 \n 9   Disney           5368 non-null   int64 \n 10  Type             5368 non-null   int64 \ndtypes: int64(7), object(4)\nmemory usage: 461.4+ KB\n",
                    "output_type": "stream"
                }
            ],
            "execution_count": 26
        },
        {
            "cell_type": "code",
            "source": [
                "#data_new to sql()"
            ],
            "metadata": {
                "language": "python",
                "azdata_cell_guid": "cac513b2-2c0b-42b3-b898-ee938bd5d050"
            },
            "outputs": [],
            "execution_count": null
        },
        {
            "cell_type": "markdown",
            "source": [
                "With your dataframe at the ready, create a new database called `tv`. Add a new table to your database called `shows` using the data in the dataframe. "
            ],
            "metadata": {
                "azdata_cell_guid": "93875e01-f1ec-45ab-b8b3-c0fe09c89c41"
            },
            "attachments": {}
        },
        {
            "cell_type": "markdown",
            "source": [
                "With your new table and database set up, print out the top 20 records in the `shows` table."
            ],
            "metadata": {
                "azdata_cell_guid": "4916f211-149f-467b-b5e4-22ad946b54f2"
            },
            "attachments": {}
        },
        {
            "cell_type": "code",
            "source": [
                "# With your dataframe at the ready, create a new database called tv. \n",
                "\n",
                "connect  = sl.connect('tv.db')\n",
                "\n",
                "#Add a new table to your database called shows using the data in the dataframe.\n",
                "\n",
                "data_new.to_sql('shows', connect) # tv_shows-table name in database\n",
                "\n",
                ""
            ],
            "metadata": {
                "azdata_cell_guid": "cae4affc-d930-4649-9c39-551475a83b5b",
                "tags": [],
                "language": "python"
            },
            "outputs": [
                {
                    "traceback": [
                        "\u001b[0;31m---------------------------------------------------------------------------\u001b[0m",
                        "\u001b[0;31mValueError\u001b[0m                                Traceback (most recent call last)",
                        "\u001b[0;32m/var/folders/p5/7w9kmhg525vf5ly43z9q0vrcrmzj6_/T/ipykernel_31030/2390295510.py\u001b[0m in \u001b[0;36m<module>\u001b[0;34m\u001b[0m\n\u001b[1;32m      5\u001b[0m \u001b[0;31m#Add a new table to your database called shows using the data in the dataframe.\u001b[0m\u001b[0;34m\u001b[0m\u001b[0;34m\u001b[0m\u001b[0m\n\u001b[1;32m      6\u001b[0m \u001b[0;34m\u001b[0m\u001b[0m\n\u001b[0;32m----> 7\u001b[0;31m \u001b[0mdata_new\u001b[0m\u001b[0;34m.\u001b[0m\u001b[0mto_sql\u001b[0m\u001b[0;34m(\u001b[0m\u001b[0;34m'shows'\u001b[0m\u001b[0;34m,\u001b[0m \u001b[0mconnect\u001b[0m\u001b[0;34m)\u001b[0m \u001b[0;31m# tv_shows-table name in database\u001b[0m\u001b[0;34m\u001b[0m\u001b[0;34m\u001b[0m\u001b[0m\n\u001b[0m\u001b[1;32m      8\u001b[0m \u001b[0;34m\u001b[0m\u001b[0m\n",
                        "\u001b[0;32m~/opt/anaconda3/lib/python3.9/site-packages/pandas/core/generic.py\u001b[0m in \u001b[0;36mto_sql\u001b[0;34m(self, name, con, schema, if_exists, index, index_label, chunksize, dtype, method)\u001b[0m\n\u001b[1;32m   2949\u001b[0m         \u001b[0;32mfrom\u001b[0m \u001b[0mpandas\u001b[0m\u001b[0;34m.\u001b[0m\u001b[0mio\u001b[0m \u001b[0;32mimport\u001b[0m \u001b[0msql\u001b[0m\u001b[0;34m\u001b[0m\u001b[0;34m\u001b[0m\u001b[0m\n\u001b[1;32m   2950\u001b[0m \u001b[0;34m\u001b[0m\u001b[0m\n\u001b[0;32m-> 2951\u001b[0;31m         return sql.to_sql(\n\u001b[0m\u001b[1;32m   2952\u001b[0m             \u001b[0mself\u001b[0m\u001b[0;34m,\u001b[0m\u001b[0;34m\u001b[0m\u001b[0;34m\u001b[0m\u001b[0m\n\u001b[1;32m   2953\u001b[0m             \u001b[0mname\u001b[0m\u001b[0;34m,\u001b[0m\u001b[0;34m\u001b[0m\u001b[0;34m\u001b[0m\u001b[0m\n",
                        "\u001b[0;32m~/opt/anaconda3/lib/python3.9/site-packages/pandas/io/sql.py\u001b[0m in \u001b[0;36mto_sql\u001b[0;34m(frame, name, con, schema, if_exists, index, index_label, chunksize, dtype, method, engine, **engine_kwargs)\u001b[0m\n\u001b[1;32m    696\u001b[0m         )\n\u001b[1;32m    697\u001b[0m \u001b[0;34m\u001b[0m\u001b[0m\n\u001b[0;32m--> 698\u001b[0;31m     return pandas_sql.to_sql(\n\u001b[0m\u001b[1;32m    699\u001b[0m         \u001b[0mframe\u001b[0m\u001b[0;34m,\u001b[0m\u001b[0;34m\u001b[0m\u001b[0;34m\u001b[0m\u001b[0m\n\u001b[1;32m    700\u001b[0m         \u001b[0mname\u001b[0m\u001b[0;34m,\u001b[0m\u001b[0;34m\u001b[0m\u001b[0;34m\u001b[0m\u001b[0m\n",
                        "\u001b[0;32m~/opt/anaconda3/lib/python3.9/site-packages/pandas/io/sql.py\u001b[0m in \u001b[0;36mto_sql\u001b[0;34m(self, frame, name, if_exists, index, index_label, schema, chunksize, dtype, method, **kwargs)\u001b[0m\n\u001b[1;32m   2190\u001b[0m             \u001b[0mdtype\u001b[0m\u001b[0;34m=\u001b[0m\u001b[0mdtype\u001b[0m\u001b[0;34m,\u001b[0m\u001b[0;34m\u001b[0m\u001b[0;34m\u001b[0m\u001b[0m\n\u001b[1;32m   2191\u001b[0m         )\n\u001b[0;32m-> 2192\u001b[0;31m         \u001b[0mtable\u001b[0m\u001b[0;34m.\u001b[0m\u001b[0mcreate\u001b[0m\u001b[0;34m(\u001b[0m\u001b[0;34m)\u001b[0m\u001b[0;34m\u001b[0m\u001b[0;34m\u001b[0m\u001b[0m\n\u001b[0m\u001b[1;32m   2193\u001b[0m         \u001b[0;32mreturn\u001b[0m \u001b[0mtable\u001b[0m\u001b[0;34m.\u001b[0m\u001b[0minsert\u001b[0m\u001b[0;34m(\u001b[0m\u001b[0mchunksize\u001b[0m\u001b[0;34m,\u001b[0m \u001b[0mmethod\u001b[0m\u001b[0;34m)\u001b[0m\u001b[0;34m\u001b[0m\u001b[0;34m\u001b[0m\u001b[0m\n\u001b[1;32m   2194\u001b[0m \u001b[0;34m\u001b[0m\u001b[0m\n",
                        "\u001b[0;32m~/opt/anaconda3/lib/python3.9/site-packages/pandas/io/sql.py\u001b[0m in \u001b[0;36mcreate\u001b[0;34m(self)\u001b[0m\n\u001b[1;32m    832\u001b[0m         \u001b[0;32mif\u001b[0m \u001b[0mself\u001b[0m\u001b[0;34m.\u001b[0m\u001b[0mexists\u001b[0m\u001b[0;34m(\u001b[0m\u001b[0;34m)\u001b[0m\u001b[0;34m:\u001b[0m\u001b[0;34m\u001b[0m\u001b[0;34m\u001b[0m\u001b[0m\n\u001b[1;32m    833\u001b[0m             \u001b[0;32mif\u001b[0m \u001b[0mself\u001b[0m\u001b[0;34m.\u001b[0m\u001b[0mif_exists\u001b[0m \u001b[0;34m==\u001b[0m \u001b[0;34m\"fail\"\u001b[0m\u001b[0;34m:\u001b[0m\u001b[0;34m\u001b[0m\u001b[0;34m\u001b[0m\u001b[0m\n\u001b[0;32m--> 834\u001b[0;31m                 \u001b[0;32mraise\u001b[0m \u001b[0mValueError\u001b[0m\u001b[0;34m(\u001b[0m\u001b[0;34mf\"Table '{self.name}' already exists.\"\u001b[0m\u001b[0;34m)\u001b[0m\u001b[0;34m\u001b[0m\u001b[0;34m\u001b[0m\u001b[0m\n\u001b[0m\u001b[1;32m    835\u001b[0m             \u001b[0;32melif\u001b[0m \u001b[0mself\u001b[0m\u001b[0;34m.\u001b[0m\u001b[0mif_exists\u001b[0m \u001b[0;34m==\u001b[0m \u001b[0;34m\"replace\"\u001b[0m\u001b[0;34m:\u001b[0m\u001b[0;34m\u001b[0m\u001b[0;34m\u001b[0m\u001b[0m\n\u001b[1;32m    836\u001b[0m                 \u001b[0mself\u001b[0m\u001b[0;34m.\u001b[0m\u001b[0mpd_sql\u001b[0m\u001b[0;34m.\u001b[0m\u001b[0mdrop_table\u001b[0m\u001b[0;34m(\u001b[0m\u001b[0mself\u001b[0m\u001b[0;34m.\u001b[0m\u001b[0mname\u001b[0m\u001b[0;34m,\u001b[0m \u001b[0mself\u001b[0m\u001b[0;34m.\u001b[0m\u001b[0mschema\u001b[0m\u001b[0;34m)\u001b[0m\u001b[0;34m\u001b[0m\u001b[0;34m\u001b[0m\u001b[0m\n",
                        "\u001b[0;31mValueError\u001b[0m: Table 'shows' already exists."
                    ],
                    "ename": "ValueError",
                    "evalue": "Table 'shows' already exists.",
                    "output_type": "error"
                }
            ],
            "execution_count": 29
        },
        {
            "cell_type": "code",
            "source": [
                "print(data_new.head(20))"
            ],
            "metadata": {
                "azdata_cell_guid": "2670030a-08b0-4872-9fcb-6eb07465c7df",
                "language": "python"
            },
            "outputs": [
                {
                    "name": "stdout",
                    "text": "    ID                       Title  Year  Age    IMDb Rotten_Tomatoes  \\\n0    1                Breaking Bad  2008  18+  9.4/10         100/100   \n1    2             Stranger Things  2016  16+  8.7/10          96/100   \n2    3             Attack on Titan  2013  18+  9.0/10          95/100   \n3    4            Better Call Saul  2015  18+  8.8/10          94/100   \n4    5                        Dark  2017  16+  8.8/10          93/100   \n5    6  Avatar: The Last Airbender  2005   7+  9.3/10          93/100   \n6    7              Peaky Blinders  2013  18+  8.8/10          93/100   \n7    8            The Walking Dead  2010  18+  8.2/10          93/100   \n8    9                Black Mirror  2011  18+  8.8/10          92/100   \n9   10          The Queen's Gambit  2020  18+  8.6/10          92/100   \n10  11                  Mindhunter  2017  18+  8.6/10          90/100   \n11  12                   Community  2009   7+  8.5/10          90/100   \n12  13                      Narcos  2015  18+  8.8/10          90/100   \n13  14                   Shameless  2011  18+  8.5/10          90/100   \n14  15                 Money Heist  2017  18+  8.3/10          90/100   \n15  16          Marvel's Daredevil  2015  18+  8.6/10          90/100   \n16  17                     Lucifer  2016  16+  8.1/10          90/100   \n17  18                Supernatural  2005  16+  8.4/10          89/100   \n18  19                 The Witcher  2019  18+  8.2/10          89/100   \n19  20                       Ozark  2017  18+  8.4/10          89/100   \n\n    Netflix  Hulu  Prime_Video  Disney  Type  \n0         1     0            0       0     1  \n1         1     0            0       0     1  \n2         1     1            0       0     1  \n3         1     0            0       0     1  \n4         1     0            0       0     1  \n5         1     0            1       0     1  \n6         1     0            0       0     1  \n7         1     0            0       0     1  \n8         1     0            0       0     1  \n9         1     0            0       0     1  \n10        1     0            0       0     1  \n11        1     1            1       0     1  \n12        1     0            0       0     1  \n13        1     1            1       0     1  \n14        1     0            0       0     1  \n15        1     0            0       0     1  \n16        1     0            0       0     1  \n17        1     0            0       0     1  \n18        1     0            0       0     1  \n19        1     0            0       0     1  \n",
                    "output_type": "stream"
                }
            ],
            "execution_count": 30
        },
        {
            "cell_type": "code",
            "source": [
                " #print out the top 20 records in the shows table.\n",
                "\n",
                "data3 = connect.execute('SELECT * FROM shows limit 20')\n",
                "for row in data3:\n",
                "    print(row)"
            ],
            "metadata": {
                "language": "python",
                "azdata_cell_guid": "36671605-9eb3-43c6-9afc-29e0939500ae",
                "tags": []
            },
            "outputs": [
                {
                    "name": "stdout",
                    "text": "(0, 1, 'Breaking Bad', 2008, '18+', '9.4/10', '100/100', 1, 0, 0, 0, 1)\n(1, 2, 'Stranger Things', 2016, '16+', '8.7/10', '96/100', 1, 0, 0, 0, 1)\n(2, 3, 'Attack on Titan', 2013, '18+', '9.0/10', '95/100', 1, 1, 0, 0, 1)\n(3, 4, 'Better Call Saul', 2015, '18+', '8.8/10', '94/100', 1, 0, 0, 0, 1)\n(4, 5, 'Dark', 2017, '16+', '8.8/10', '93/100', 1, 0, 0, 0, 1)\n(5, 6, 'Avatar: The Last Airbender', 2005, '7+', '9.3/10', '93/100', 1, 0, 1, 0, 1)\n(6, 7, 'Peaky Blinders', 2013, '18+', '8.8/10', '93/100', 1, 0, 0, 0, 1)\n(7, 8, 'The Walking Dead', 2010, '18+', '8.2/10', '93/100', 1, 0, 0, 0, 1)\n(8, 9, 'Black Mirror', 2011, '18+', '8.8/10', '92/100', 1, 0, 0, 0, 1)\n(9, 10, \"The Queen's Gambit\", 2020, '18+', '8.6/10', '92/100', 1, 0, 0, 0, 1)\n(10, 11, 'Mindhunter', 2017, '18+', '8.6/10', '90/100', 1, 0, 0, 0, 1)\n(11, 12, 'Community', 2009, '7+', '8.5/10', '90/100', 1, 1, 1, 0, 1)\n(12, 13, 'Narcos', 2015, '18+', '8.8/10', '90/100', 1, 0, 0, 0, 1)\n(13, 14, 'Shameless', 2011, '18+', '8.5/10', '90/100', 1, 1, 1, 0, 1)\n(14, 15, 'Money Heist', 2017, '18+', '8.3/10', '90/100', 1, 0, 0, 0, 1)\n(15, 16, \"Marvel's Daredevil\", 2015, '18+', '8.6/10', '90/100', 1, 0, 0, 0, 1)\n(16, 17, 'Lucifer', 2016, '16+', '8.1/10', '90/100', 1, 0, 0, 0, 1)\n(17, 18, 'Supernatural', 2005, '16+', '8.4/10', '89/100', 1, 0, 0, 0, 1)\n(18, 19, 'The Witcher', 2019, '18+', '8.2/10', '89/100', 1, 0, 0, 0, 1)\n(19, 20, 'Ozark', 2017, '18+', '8.4/10', '89/100', 1, 0, 0, 0, 1)\n",
                    "output_type": "stream"
                }
            ],
            "execution_count": 38
        },
        {
            "cell_type": "markdown",
            "source": [
                "Now add a table that includes an id number and the titles on your watchlist."
            ],
            "metadata": {
                "azdata_cell_guid": "f158ccd2-c87a-4d2c-a947-0eadd0484a3e"
            },
            "attachments": {}
        },
        {
            "cell_type": "code",
            "source": [
                "# Create a new table in your database that includes an id number and the titles on your watchlist.\n",
                "with connect:\n",
                "    connect.execute(\"\"\"\n",
                "    CREATE TABLE watchlist(\n",
                "        id INTEGER NOT NULL PRIMARY KEY AUTOINCREMENT,\n",
                "        titles TEXT\n",
                "        );\n",
                "    \"\"\")"
            ],
            "metadata": {
                "azdata_cell_guid": "f95defad-521b-4112-8435-08daaac80b80",
                "language": "python"
            },
            "outputs": [
                {
                    "traceback": [
                        "\u001b[0;31m---------------------------------------------------------------------------\u001b[0m",
                        "\u001b[0;31mOperationalError\u001b[0m                          Traceback (most recent call last)",
                        "\u001b[0;32m/var/folders/p5/7w9kmhg525vf5ly43z9q0vrcrmzj6_/T/ipykernel_31030/2235784267.py\u001b[0m in \u001b[0;36m<module>\u001b[0;34m\u001b[0m\n\u001b[1;32m      1\u001b[0m \u001b[0;31m# Create a new table in your database that includes an id number and the titles on your watchlist.\u001b[0m\u001b[0;34m\u001b[0m\u001b[0;34m\u001b[0m\u001b[0m\n\u001b[1;32m      2\u001b[0m \u001b[0;32mwith\u001b[0m \u001b[0mconnect\u001b[0m\u001b[0;34m:\u001b[0m\u001b[0;34m\u001b[0m\u001b[0;34m\u001b[0m\u001b[0m\n\u001b[0;32m----> 3\u001b[0;31m     connect.execute(\"\"\"\n\u001b[0m\u001b[1;32m      4\u001b[0m     CREATE TABLE watchlist(\n\u001b[1;32m      5\u001b[0m         \u001b[0mid\u001b[0m \u001b[0mINTEGER\u001b[0m \u001b[0mNOT\u001b[0m \u001b[0mNULL\u001b[0m \u001b[0mPRIMARY\u001b[0m \u001b[0mKEY\u001b[0m \u001b[0mAUTOINCREMENT\u001b[0m\u001b[0;34m,\u001b[0m\u001b[0;34m\u001b[0m\u001b[0;34m\u001b[0m\u001b[0m\n",
                        "\u001b[0;31mOperationalError\u001b[0m: table watchlist already exists"
                    ],
                    "ename": "OperationalError",
                    "evalue": "table watchlist already exists",
                    "output_type": "error"
                }
            ],
            "execution_count": 114
        },
        {
            "cell_type": "code",
            "source": [
                "# Add your id number and the titles on your watchlist\n",
                "#sql = 'INSERT INTO watchlist (titles) VALUES(?)'\n",
                "#data = [\n",
                " #   ('Stranger Things'),  \n",
                "  #  ('Better Call Saul'),\n",
                "   # ('Dark')\n",
                "#]\n",
                "#with connect:\n",
                " #   connect.executemany(sql, data)\n",
                "\n",
                "connect.execute(\"INSERT INTO watchlist (titles) VALUES('Better Call Saul'),('Stranger Things'),('Dark')\") "
            ],
            "metadata": {
                "language": "python",
                "azdata_cell_guid": "50dcf919-f90a-453f-b9e7-e4414da44cb0"
            },
            "outputs": [
                {
                    "data": {
                        "text/plain": "<sqlite3.Cursor at 0x7f8f9b073810>"
                    },
                    "metadata": {},
                    "execution_count": 167,
                    "output_type": "execute_result"
                }
            ],
            "execution_count": 167
        },
        {
            "cell_type": "code",
            "source": [
                "data = connect.execute('SELECT * FROM watchlist')\n",
                "for row in data:\n",
                "    print(row)"
            ],
            "metadata": {
                "azdata_cell_guid": "d269a545-56fd-4e6b-ad29-94dc951becf0",
                "language": "python"
            },
            "outputs": [
                {
                    "name": "stdout",
                    "text": "(1, 'Better Call Saul')\n(2, 'Stranger Things')\n(3, 'Dark')\n",
                    "output_type": "stream"
                }
            ],
            "execution_count": 168
        },
        {
            "cell_type": "markdown",
            "source": [
                "## Working with the Data\n",
                "\n",
                "Using either Pandas or SQL, determine how many shows are on each streaming service and what the mean is for each streaming service. \n",
                "\n",
                "**Note**: You may notice that the mean represents the percentage of shows in the dataframe that are on each streaming service. Take a moment to think about why that is."
            ],
            "metadata": {
                "azdata_cell_guid": "4716090d-63e3-4283-8245-934c4a28c750"
            },
            "attachments": {}
        },
        {
            "cell_type": "code",
            "source": [
                " print(data_new.describe())\n",
                "\n",
                "data_new.groupby(['Netflix','Hulu','Prime_Video','Disney']).value_counts()\n",
                "\n",
                "print(data_new['Netflix'].value_counts())\n",
                "print(data_new['Hulu'].value_counts())\n",
                "print(data_new['Prime_Video'].value_counts())\n",
                "print(data_new['Disney'].value_counts())\n",
                "#or\n",
                "#streaming = connect.execute('SELECT COUNT(Netflix) AS Netflix FROM shows WHERE NETFLIX = 1')\n",
                "#streaming = connect.fetchmany(size)\n",
                "#print(streaming)\n",
                "\n",
                ""
            ],
            "metadata": {
                "azdata_cell_guid": "8e4f3757-474f-4e20-b861-db973437b541",
                "language": "python"
            },
            "outputs": [
                {
                    "name": "stdout",
                    "text": "                ID         Year      Netflix         Hulu  Prime_Video  \\\ncount  5368.000000  5368.000000  5368.000000  5368.000000  5368.000000   \nmean   2814.945790  2012.628726     0.367176     0.301975     0.341095   \nstd    1672.385727    10.142813     0.482080     0.459157     0.474122   \nmin       1.000000  1904.000000     0.000000     0.000000     0.000000   \n25%    1345.750000  2011.000000     0.000000     0.000000     0.000000   \n50%    2788.000000  2016.000000     0.000000     0.000000     0.000000   \n75%    4308.250000  2018.000000     1.000000     1.000000     1.000000   \nmax    5717.000000  2021.000000     1.000000     1.000000     1.000000   \n\n            Disney    Type  \ncount  5368.000000  5368.0  \nmean      0.065387     1.0  \nstd       0.247231     0.0  \nmin       0.000000     1.0  \n25%       0.000000     1.0  \n50%       0.000000     1.0  \n75%       0.000000     1.0  \nmax       1.000000     1.0  \n0    3397\n1    1971\nName: Netflix, dtype: int64\n0    3747\n1    1621\nName: Hulu, dtype: int64\n0    3537\n1    1831\nName: Prime_Video, dtype: int64\n0    5017\n1     351\nName: Disney, dtype: int64\n",
                    "output_type": "stream"
                }
            ],
            "execution_count": 69
        },
        {
            "cell_type": "markdown",
            "source": [
                "Join your watchlist data with the shows data to determine which streaming services your watchlist shows are on and make a new table in your database using the joined data. Print out the data in your joined table to see what shows on your watchlist on in the original dataset. With the joined data, determine the percentage of your watchlist shows that are on each streaming service and how many of your watchlist shows are on each streaming service."
            ],
            "metadata": {
                "azdata_cell_guid": "167cbd0d-ad9f-4f27-8066-e45dfdfaf421"
            },
            "attachments": {}
        },
        {
            "cell_type": "code",
            "source": [
                "#streaming_df = pd.read_sql(\"SELECT *\\\n",
                "#FROM watchlist inner Join shows as s ON  watchlist.titles = s.Title; \", connect)\n",
                "\n",
                "streaming_df = pd.read_sql(\"SELECT watchlist.titles, s.Netflix, s.Hulu,s.Disney  \\\n",
                "FROM watchlist \\\n",
                "JOIN shows as s \\\n",
                "ON  watchlist.titles = s.Title; \\\n",
                "\", connect)\n",
                "\n",
                "print(streaming_df.head(3))\n",
                "print(streaming_df.info())\n",
                "#percentage of your watchlist shows that are on each streaming service\n",
                "print(streaming_df.describe())\n",
                "\n",
                "#number on each streaming service.\n",
                "print(streaming_df['Netflix'].value_counts())\n",
                "print(streaming_df['Hulu'].value_counts())\n",
                "print(streaming_df['Disney'].value_counts())"
            ],
            "metadata": {
                "azdata_cell_guid": "b871523e-a476-4f3a-a6ac-2e251f140e84",
                "language": "python"
            },
            "outputs": [
                {
                    "name": "stdout",
                    "text": "             titles  Netflix  Hulu  Disney\n0  Better Call Saul        1     0       0\n1   Stranger Things        1     0       0\n2              Dark        1     0       0\n<class 'pandas.core.frame.DataFrame'>\nRangeIndex: 3 entries, 0 to 2\nData columns (total 4 columns):\n #   Column   Non-Null Count  Dtype \n---  ------   --------------  ----- \n 0   titles   3 non-null      object\n 1   Netflix  3 non-null      int64 \n 2   Hulu     3 non-null      int64 \n 3   Disney   3 non-null      int64 \ndtypes: int64(3), object(1)\nmemory usage: 224.0+ bytes\nNone\n       Netflix  Hulu  Disney\ncount      3.0   3.0     3.0\nmean       1.0   0.0     0.0\nstd        0.0   0.0     0.0\nmin        1.0   0.0     0.0\n25%        1.0   0.0     0.0\n50%        1.0   0.0     0.0\n75%        1.0   0.0     0.0\nmax        1.0   0.0     0.0\n1    3\nName: Netflix, dtype: int64\n0    3\nName: Hulu, dtype: int64\n0    3\nName: Disney, dtype: int64\n",
                    "output_type": "stream"
                }
            ],
            "execution_count": 171
        },
        {
            "cell_type": "markdown",
            "source": [
                "## Results\n",
                "\n",
                "Now that you have done your analysis, make note of the answers to the following questions by editing the text cell:\n",
                "\n",
                "1. Was every show on your watchlist in the Kaggle dataset? Do you have any ideas as to why a show might not have been present?\n",
                "2. Did you include a show or shows in your watchlist that is exclusive to one of the platforms? How might that have impacted your analysis?\n",
                "2. Which streaming service(s) offered the most shows on your watchlist? Which streaming service(s) offered the least?\n",
                "3. Based on the shows you want to watch and the results of your analysis, is there a streaming service you think would be a good fit for you?"
            ],
            "metadata": {
                "azdata_cell_guid": "909689e4-1aae-41e3-b1f8-158ebe5ec3ca"
            }
        },
        {
            "cell_type": "markdown",
            "source": [
                "Answer\n",
                "\n",
                "1\\. Yes, \n",
                "\n",
                "2\\. Yes, I did. it only gave 100% as percentage of my watchlist shows that are on each streaming service  which might make the analysis to be skewed or bias\n",
                "\n",
                "3\\. Netflix offfered the most shows while Hulu and Disney offfered the least shows\n",
                "\n",
                "4\\. Netflix"
            ],
            "metadata": {
                "azdata_cell_guid": "d3b17d40-4de9-4141-9789-dd3d99bfb692"
            },
            "attachments": {}
        }
    ]
}